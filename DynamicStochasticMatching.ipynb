{
 "cells": [
  {
   "cell_type": "code",
   "execution_count": null,
   "metadata": {},
   "outputs": [],
   "source": [
    "import numpy as np\n",
    "import networkx as nx\n",
    "import random\n",
    "import matplotlib.pyplot as plt\n",
    "import seaborn as sns\n",
    "import torch\n",
    "import torch.nn as nn\n",
    "import torch.optim as optim\n",
    "from torch.utils.data import DataLoader, TensorDataset\n",
    "from sklearn.preprocessing import StandardScaler\n",
    "from sklearn.metrics import mean_squared_error\n",
    "from scipy.optimize import linear_sum_assignment\n"
   ]
  },
  {
   "cell_type": "code",
   "execution_count": null,
   "metadata": {},
   "outputs": [],
   "source": [
    "# CITY LAYOUT AND GRAPH FUNCTIONS\n",
    "\n",
    "def generate_imperfect_grid_adjacency_matrix(num_nodes, skip_prob=0.15, extra_edges=0.15):\n",
    "    if num_nodes <= 1:\n",
    "        raise ValueError(\"Number of nodes must be greater than 1\")\n",
    "\n",
    "    grid_size = int(np.ceil(np.sqrt(num_nodes)))\n",
    "    adjacency_matrix = np.zeros((num_nodes, num_nodes), dtype=int)\n",
    "\n",
    "    for i in range(num_nodes):\n",
    "        if i % grid_size != grid_size - 1 and i + 1 < num_nodes:\n",
    "            if random.random() > skip_prob:\n",
    "                adjacency_matrix[i][i + 1] = 1\n",
    "                adjacency_matrix[i + 1][i] = 1\n",
    "        if i + grid_size < num_nodes:\n",
    "            if random.random() > skip_prob:\n",
    "                adjacency_matrix[i][i + grid_size] = 1\n",
    "                adjacency_matrix[i + grid_size][i] = 1\n",
    "\n",
    "    num_extra_edges = int(extra_edges * num_nodes)\n",
    "    edges_added = 0\n",
    "    while edges_added < num_extra_edges:\n",
    "        node1 = random.randint(0, num_nodes - 1)\n",
    "        node2 = random.randint(0, num_nodes - 1)\n",
    "        if node1 != node2 and adjacency_matrix[node1][node2] == 0:\n",
    "            adjacency_matrix[node1][node2] = 1\n",
    "            adjacency_matrix[node2][node1] = 1\n",
    "            edges_added += 1\n",
    "\n",
    "    return adjacency_matrix\n",
    "\n",
    "def generate_fully_connected_adjacency_matrix(num_nodes, skip_prob=0.15, extra_edges=0.15):\n",
    "    while True:\n",
    "        adj_matrix = generate_imperfect_grid_adjacency_matrix(num_nodes, skip_prob, extra_edges)\n",
    "        G = nx.from_numpy_array(adj_matrix)\n",
    "        if nx.is_connected(G):\n",
    "            return adj_matrix\n",
    "\n",
    "\n",
    "def visualize_graph(adj_matrix):\n",
    "    G = nx.from_numpy_array(adj_matrix)\n",
    "    pos = {i: (i % int(np.ceil(np.sqrt(len(adj_matrix)))), int(np.ceil(np.sqrt(len(adj_matrix)))) - (i // int(np.ceil(np.sqrt(len(adj_matrix)))))) for i in range(len(adj_matrix))}\n",
    "    nx.draw(G, pos, with_labels=True, node_color='lightblue', node_size=500, edge_color='gray')\n",
    "    plt.title(\"Imperfect Grid-Like City Graph\")\n",
    "    plt.show()"
   ]
  },
  {
   "cell_type": "code",
   "execution_count": null,
   "metadata": {},
   "outputs": [],
   "source": []
  }
 ],
 "metadata": {
  "language_info": {
   "name": "python"
  }
 },
 "nbformat": 4,
 "nbformat_minor": 2
}
