{
 "cells": [
  {
   "cell_type": "code",
   "execution_count": 20,
   "metadata": {},
   "outputs": [
    {
     "name": "stdout",
     "output_type": "stream",
     "text": [
      "   Time   Type Location  Patience  Sojourn Time\n",
      "0     0  Rider   (0, 0)         6      5.707915\n",
      "1     0  Rider   (0, 0)         1      5.707915\n",
      "2     0  Rider   (0, 0)         8      5.707915\n",
      "3     0  Rider   (0, 0)         7      5.707915\n",
      "4     0  Rider   (0, 0)         2      5.707915\n"
     ]
    }
   ],
   "source": [
    "# Import necessary libraries and utility functions\n",
    "import numpy as np\n",
    "import pandas as pd\n",
    "\n",
    "from Setups.DynamicStochasticUtils import (\n",
    "    generate_imperfect_grid_adjacency_matrix,\n",
    "    generate_poisson_arrivals,\n",
    "    generate_exponential_sojourn_times,\n",
    "    create_riders_and_drivers,\n",
    "    create_status_dataframe\n",
    ")\n",
    "\n",
    "# Parameters\n",
    "num_nodes = 10\n",
    "skip_prob = 0.15\n",
    "extra_edges = 0.15\n",
    "length = 100\n",
    "pickup_rate = 5  # Rate of rider arrivals (Poisson)\n",
    "driver_rate = 5  # Rate of driver arrivals (Poisson)\n",
    "sojourn_rate = 0.4\n",
    "\n",
    "# Generate city graph\n",
    "adj_matrix = generate_imperfect_grid_adjacency_matrix(num_nodes, skip_prob, extra_edges)\n",
    "\n",
    "# Generate time series data for demand and drivers\n",
    "pickup_series = generate_poisson_arrivals(pickup_rate, (length, num_nodes))\n",
    "drivers_series = generate_poisson_arrivals(driver_rate, (length, num_nodes))\n",
    "sojourn_times = generate_exponential_sojourn_times(sojourn_rate, length)\n",
    "\n",
    "# Assuming random dropoffs for simplicity\n",
    "dropoffs = { (t, node): [np.random.randint(0, num_nodes - 1) for _ in range(pickup_series[t, node])] for t in range(length) for node in range(num_nodes)}\n",
    "\n",
    "# Create riders and drivers\n",
    "riders, drivers = create_riders_and_drivers(pickup_series, dropoffs, drivers_series, sojourn_times)\n",
    "\n",
    "# Create status dataframe\n",
    "status_df = create_status_dataframe(riders, drivers)\n",
    "print(status_df.head())\n"
   ]
  },
  {
   "cell_type": "code",
   "execution_count": 21,
   "metadata": {},
   "outputs": [
    {
     "name": "stdout",
     "output_type": "stream",
     "text": [
      "Summary Statistics:\n",
      "Total Riders: 4937\n",
      "Matched Riders: 3687\n",
      "Unmatched Riders: 1250\n",
      "Total Drivers: 4962\n",
      "Matched Drivers: 3687\n",
      "Unmatched Drivers: 1275\n",
      "Average Wait Time for Riders: 2.46\n",
      "Average Wait Time for Drivers: 2.45\n"
     ]
    }
   ],
   "source": [
    "# Greedy Matching Algorithm and Summary Statistics\n",
    "\n",
    "def greedy_matching(riders, drivers):\n",
    "    matches = {}\n",
    "    for t in riders.keys():\n",
    "        matches[t] = []\n",
    "        for rider in riders[t]:\n",
    "            for driver in drivers[t]:\n",
    "                if driver.location == rider.location and driver.patience > 0:\n",
    "                    matches[t].append((rider, driver))\n",
    "                    drivers[t].remove(driver)\n",
    "                    break\n",
    "    return matches\n",
    "\n",
    "# Execute greedy matching\n",
    "matches = greedy_matching(riders, drivers)\n",
    "\n",
    "# Calculate summary statistics\n",
    "total_riders = sum(len(riders[t]) for t in riders)\n",
    "total_drivers = sum(len(drivers[t]) + len(matches[t]) for t in matches)\n",
    "\n",
    "matched_riders = sum(len(matches[t]) for t in matches)\n",
    "unmatched_riders = total_riders - matched_riders\n",
    "\n",
    "matched_drivers = matched_riders  # Each match includes one driver\n",
    "unmatched_drivers = total_drivers - matched_drivers\n",
    "\n",
    "average_wait_time_riders = np.mean([rider.sojourn_time for t in riders for rider in riders[t] if rider.patience > 0])\n",
    "average_wait_time_drivers = np.mean([driver.sojourn_time for t in drivers for driver in drivers[t] if driver.patience > 0])\n",
    "\n",
    "print(\"Summary Statistics:\")\n",
    "print(f\"Total Riders: {total_riders}\")\n",
    "print(f\"Matched Riders: {matched_riders}\")\n",
    "print(f\"Unmatched Riders: {unmatched_riders}\")\n",
    "print(f\"Total Drivers: {total_drivers}\")\n",
    "print(f\"Matched Drivers: {matched_drivers}\")\n",
    "print(f\"Unmatched Drivers: {unmatched_drivers}\")\n",
    "print(f\"Average Wait Time for Riders: {average_wait_time_riders:.2f}\")\n",
    "print(f\"Average Wait Time for Drivers: {average_wait_time_drivers:.2f}\")\n"
   ]
  },
  {
   "cell_type": "code",
   "execution_count": null,
   "metadata": {},
   "outputs": [],
   "source": []
  },
  {
   "cell_type": "code",
   "execution_count": null,
   "metadata": {},
   "outputs": [],
   "source": []
  }
 ],
 "metadata": {
  "kernelspec": {
   "display_name": "Python 3",
   "language": "python",
   "name": "python3"
  },
  "language_info": {
   "codemirror_mode": {
    "name": "ipython",
    "version": 3
   },
   "file_extension": ".py",
   "mimetype": "text/x-python",
   "name": "python",
   "nbconvert_exporter": "python",
   "pygments_lexer": "ipython3",
   "version": "3.10.2"
  }
 },
 "nbformat": 4,
 "nbformat_minor": 2
}
